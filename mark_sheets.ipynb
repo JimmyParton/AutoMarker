{
 "cells": [
  {
   "cell_type": "code",
   "execution_count": null,
   "metadata": {},
   "outputs": [],
   "source": [
    "# Purpose: \t\tautomatic marking of 11+ multipe choice answer sheets.\n",
    "#\n",
    "# Overview:     1. user inputs variables such as paper name, folder path of scanned answer sheets and number of students.\n",
    "#               2. code loads in pre-saved variables relating to the specific mock paper.\n",
    "#               3. loaded variables are used to identify which answer boxes have been marked on the completed answer sheets.\n",
    "#               4. student's answers are compared to answer key and a score is calculated.\n",
    "#               5. code loops over all students and returns an array of marks\n",
    "#\n",
    "# Input(s):\t\tpaper = name of mock paper (string)\n",
    "#               folder = folder path of scanned answer sheets (string)\n",
    "#               nS = number of students (scalar)\n",
    "#\n",
    "# Output(s): \tpaper_marks.csv = a .csv file of the students' marks (.csv file)"
   ]
  },
  {
   "cell_type": "code",
   "execution_count": null,
   "metadata": {},
   "outputs": [],
   "source": [
    "# inputs\n",
    "\n",
    "paper = 'Mock2E'\n",
    "folder = 'C:/Users/jimmy/OneDrive/Tutor World OneDrive/11+/Mocks - TW/2022/Mock 2/AutoMarker'\n",
    "nS = 1"
   ]
  },
  {
   "cell_type": "code",
   "execution_count": null,
   "metadata": {},
   "outputs": [],
   "source": [
    "# imports\n",
    "\n",
    "import numpy as np\n",
    "import cv2\n",
    "import pickle"
   ]
  },
  {
   "cell_type": "code",
   "execution_count": null,
   "metadata": {},
   "outputs": [],
   "source": [
    "# main code\n",
    "# work out which boxes have been marked and compare to markscheme\n",
    "\n",
    "# load in dictionary of variables and unpack\n",
    "var_dict = pickle.load(open(paper+\".p\", \"rb\" ) )\n",
    "nQ = var_dict[\"nQ\"]\n",
    "nOpts = var_dict[\"nOpts\"]\n",
    "coords = var_dict[\"coords\"]\n",
    "MS = var_dict[\"MS\"]\n",
    "\n",
    "# initialise array for marks\n",
    "marks = np.zeros((nS,nQ),np.int8)\n",
    "\n",
    "# function to store the coordinates\n",
    "# of the points clicked on the image\n",
    "def click_event(event, x, y, flags, params):\n",
    "\n",
    "\tglobal box_1_coords\n",
    "\n",
    "\t# on left mouse click, store the coordinates and iterate i and k\n",
    "\n",
    "\tif event == cv2.EVENT_LBUTTONDOWN:\n",
    "\n",
    "\t\tbox_1_coords.append((x,y))\n",
    "\n",
    "\t\t# close the window\n",
    "\t\tcv2.destroyAllWindows()\n",
    "\n",
    "for s in range(nS):\n",
    "\n",
    "\t# read in the image\n",
    "\timg = cv2.imread(folder+\"/\"+paper+\"_Page_\"+str(s+1)+\".png\", 0)\n",
    "\n",
    "\t# resize image\n",
    "\tscale_percent = 15\n",
    "\twidth = int(img.shape[1] * scale_percent / 100)\n",
    "\theight = int(img.shape[0] * scale_percent / 100)\n",
    "\tdim = (width, height)\n",
    "\timg = cv2.resize(img, dim, interpolation = cv2.INTER_AREA)\n",
    "\n",
    "\t# initialise variables\n",
    "\tbox_1_coords = []\n",
    "\tAS = [[] for i in range(nQ)]\n",
    "\tAS_marks = [[] for i in range(nQ)]\n",
    "\n",
    "\t# display the image\n",
    "\tcv2.imshow('image', img)\n",
    "\n",
    "\t# set mouse handler for the image\n",
    "\t# and call the click_event() function\n",
    "\tcv2.setMouseCallback('image', click_event)\n",
    "\n",
    "\t# wait for a key to be pressed to move on\n",
    "\tcv2.waitKey(0)\n",
    "\n",
    "\t# calculate displacement of answer sheet from original\n",
    "\tx_disp = box_1_coords[0][0] - coords[0][0][0]\n",
    "\ty_disp = box_1_coords[0][1] - coords[0][0][1]\n",
    "\tdisp = [(x_disp,y_disp)]\n",
    "\n",
    "\t# work out which boxes have been marked and compare to markscheme\n",
    "\tfor i in range(nQ):\n",
    "\t\tfor j in range(nOpts[i]):\n",
    "\n",
    "\t\t\t# get mean pixel intensity in small rectangle around coordinate\n",
    "\t\t\tAS_marks[i].append(np.mean(img[coords[i][j][1]-4+disp[0][1]:coords[i][j][1]+4+disp[0][1],coords[i][j][0]-12+disp[0][0]:coords[i][j][0]+12+disp[0][0]]))\n",
    "\n",
    "\t\t\t# identify box as having been marked if intensity if below threshold\n",
    "\t\t\tif  AS_marks[i][j] < 190:\n",
    "\t\t\t\tAS[i].append(True)\n",
    "\t\t\telse:\n",
    "\t\t\t\tAS[i].append(False)\n",
    "\n",
    "\t\t# compare marked answer boxes to mark scheme\t\n",
    "\t\tif MS[i] == AS[i]:\n",
    "\t\t\tmarks[s,i] = 1\n",
    "\n",
    "marks"
   ]
  },
  {
   "cell_type": "code",
   "execution_count": null,
   "metadata": {},
   "outputs": [],
   "source": [
    "# output marks to .csv\n",
    "\n",
    "np.savetxt(folder+\"/\"+paper+\"_marks.csv\", marks, delimiter=\",\", fmt = '%i')"
   ]
  },
  {
   "cell_type": "code",
   "execution_count": null,
   "metadata": {},
   "outputs": [],
   "source": [
    "# tests\n",
    "\n",
    "AS_marks"
   ]
  }
 ],
 "metadata": {
  "interpreter": {
   "hash": "41fd5868fa73dc555675d559a0f8bebbece21417f78d674a30d549f7c84b155b"
  },
  "kernelspec": {
   "display_name": "Python 3.10.4 ('.venv': venv)",
   "language": "python",
   "name": "python3"
  },
  "language_info": {
   "codemirror_mode": {
    "name": "ipython",
    "version": 3
   },
   "file_extension": ".py",
   "mimetype": "text/x-python",
   "name": "python",
   "nbconvert_exporter": "python",
   "pygments_lexer": "ipython3",
   "version": "3.10.4"
  },
  "orig_nbformat": 4
 },
 "nbformat": 4,
 "nbformat_minor": 2
}
