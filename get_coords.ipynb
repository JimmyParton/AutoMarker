{
 "cells": [
  {
   "cell_type": "code",
   "execution_count": null,
   "metadata": {},
   "outputs": [],
   "source": [
    "# Purpose: \t\tprompts user to select coordinates of all answer boxes for an 11+ multiple choice answer sheet and creates a dictionary of all variables to be used in mark_sheets.ipynb\n",
    "#\n",
    "# Overview:     1. user inputs variables such as number of questions, numbers of answer boxes, file paths etc.\n",
    "#               2. code opens clean answer sheet and prompts user to select the coordinates of all answer boxes.\n",
    "#               3. coordinates are stored in an array.\n",
    "#               4. all variables stored in a dictionary and saved in a pickle file so they can be accessed later.\n",
    "#\n",
    "# Input(s):\t\tpaper = name of mock paper (string)\n",
    "#               folder = folder path of scanned answer sheets (string)\n",
    "#               nQ = number of questions (scalar)\n",
    "#               nOpts = number of answer boxes (a vector of nQ elements; each element is the number of answer options for that question)\n",
    "#               MS = markscheme (a vector of nQ elements; each element is the answer for that question)\n",
    "#\n",
    "# Output(s): \tpaper.p = a pickle file, whose name is based on the paper variable, containing a dictionary of all required variables for the mark_sheets code (.p file)"
   ]
  },
  {
   "cell_type": "code",
   "execution_count": null,
   "metadata": {},
   "outputs": [],
   "source": [
    "# possible answers stored as Boolean vectors (do not modify)\n",
    "\n",
    "A = [True, False, False, False, False]\n",
    "B = [False, True, False, False, False]\n",
    "C = [False, False, True, False, False]\n",
    "D = [False, False, False, True, False]\n",
    "E = [False, False, False, False, True]\n",
    "N = [False, False, False, False, True]\n",
    "AX = [True, False, False, True, False, False]\n",
    "AY = [True, False, False, False, True, False]\n",
    "AZ = [True, False, False, False, False, True]\n",
    "BX = [False, True, False, True, False, False]\n",
    "BY = [False, True, False, False, True, False]\n",
    "BZ = [False, True, False, False, False, True]\n",
    "CX = [False, False, True, True, False, False]\n",
    "CY = [False, False, True, False, True, False]\n",
    "CZ = [False, False, True, False, False, True]"
   ]
  },
  {
   "cell_type": "code",
   "execution_count": null,
   "metadata": {},
   "outputs": [],
   "source": [
    "# inputs\n",
    "\n",
    "paper = \"Mock2E\"\n",
    "folder = 'C:/Users/jimmy/OneDrive/Tutor World OneDrive/11+/Mocks - TW/2022/Mock 2/AutoMarker'\n",
    "nQ = 26\n",
    "nOpts = [5] * 26\n",
    "MS = [B,C,B,D,E,B,E,A,D,A,C,D,D,C,C,N,A,C,B,D,N,D,B,B,D,C]\n",
    "\n",
    "# checks\n",
    "\n",
    "if nQ != len(nOpts):\n",
    "    print(\"Length of nOpts does not match number of questions\")\n",
    "\n",
    "if nQ != len(MS):\n",
    "    print(\"Length of MS does not match number of questions\")\n"
   ]
  },
  {
   "cell_type": "code",
   "execution_count": null,
   "metadata": {},
   "outputs": [],
   "source": [
    "# imports\n",
    "\n",
    "import cv2\n",
    "import pickle"
   ]
  },
  {
   "cell_type": "code",
   "execution_count": null,
   "metadata": {},
   "outputs": [],
   "source": [
    "# main code\n",
    "# get and store coordinates of answer boxes\n",
    "\n",
    "# initialise variables\n",
    "coords = [[] for i in range(nQ)]\n",
    "i = 0\n",
    "k = 0\n",
    "\n",
    "# function to store the coordinates\n",
    "# of the points clicked on the image\n",
    "def click_event(event, x, y, flags, params):\n",
    "\n",
    "\tglobal coords, i, k\n",
    "\t\n",
    "\t# on left mouse click, store the coordinates and iterate i and k\n",
    "\tif event == cv2.EVENT_LBUTTONDOWN:\n",
    "\n",
    "\t\tcoords[i].append((x,y))\n",
    "\t\tk += 1\n",
    "\t\tif k >= sum(nOpts[0:i+1]):\n",
    "\t\t\ti += 1\n",
    "\n",
    "# read in the image\n",
    "img = cv2.imread(folder+\"/\"+paper+\"_Page_\"+str(1)+\".png\", 0)\n",
    "\n",
    "# resize image\n",
    "scale_percent = 15\n",
    "width = int(img.shape[1] * scale_percent / 100)\n",
    "height = int(img.shape[0] * scale_percent / 100)\n",
    "dim = (width, height)\n",
    "img = cv2.resize(img, dim, interpolation = cv2.INTER_AREA)\n",
    "\n",
    "# display the image\n",
    "cv2.imshow('image', img)\n",
    "\n",
    "# set mouse handler for the image\n",
    "# and call the click_event() function\n",
    "cv2.setMouseCallback('image', click_event)\n",
    "\n",
    "# wait for a key to be pressed to exit\n",
    "cv2.waitKey(0)\n",
    "\n",
    "# close the window\n",
    "cv2.destroyAllWindows()"
   ]
  },
  {
   "cell_type": "code",
   "execution_count": null,
   "metadata": {},
   "outputs": [],
   "source": [
    "# store dictionary of variables and save\n",
    "\n",
    "var_dict = {\"nQ\": nQ, \"nOpts\": nOpts, \"MS\": MS, \"coords\": coords}\n",
    "pickle.dump(var_dict, open(paper+\".p\", \"wb\" ) )"
   ]
  },
  {
   "cell_type": "code",
   "execution_count": null,
   "metadata": {},
   "outputs": [],
   "source": [
    "# tests\n",
    "\n",
    "coords"
   ]
  }
 ],
 "metadata": {
  "interpreter": {
   "hash": "41fd5868fa73dc555675d559a0f8bebbece21417f78d674a30d549f7c84b155b"
  },
  "kernelspec": {
   "display_name": "Python 3.10.4 ('.venv': venv)",
   "language": "python",
   "name": "python3"
  },
  "language_info": {
   "codemirror_mode": {
    "name": "ipython",
    "version": 3
   },
   "file_extension": ".py",
   "mimetype": "text/x-python",
   "name": "python",
   "nbconvert_exporter": "python",
   "pygments_lexer": "ipython3",
   "version": "3.10.4"
  },
  "orig_nbformat": 4
 },
 "nbformat": 4,
 "nbformat_minor": 2
}
